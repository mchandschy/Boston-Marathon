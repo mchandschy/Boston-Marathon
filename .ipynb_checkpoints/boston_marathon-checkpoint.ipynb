{
 "cells": [
  {
   "cell_type": "code",
   "execution_count": 200,
   "metadata": {},
   "outputs": [],
   "source": [
    "import csv\n",
    "import numpy as np\n",
    "import pandas as pd\n",
    "import matplotlib.pyplot as plt\n",
    "import time\n",
    "import math\n",
    "import seaborn as sb"
   ]
  },
  {
   "cell_type": "code",
   "execution_count": 205,
   "metadata": {},
   "outputs": [],
   "source": [
    "filepath ='/Users/MadelineHandschy/marathon_prediction/'\n",
    "csvfilenames = ['marathon_results_2015.csv',\n",
    "                'marathon_results_2016.csv', \n",
    "                'marathon_results_2017.csv']\n",
    "\n",
    "with open(filepath+csvfilenames[0]) as datafile:\n",
    "    filecontents = csv.reader(datafile, delimiter = \",\")\n",
    "    data = list(filecontents)\n",
    "    \n",
    "Boston2015 = pd.DataFrame(data)\n",
    "Boston2015.columns = Boston2015.iloc[0]\n",
    "Boston2015 = Boston2015[1:]\n",
    "\n",
    "Boston2015 = Boston2015.fillna(0)\n",
    "\n",
    "with open(filepath+csvfilenames[1]) as datafile:\n",
    "    filecontents = csv.reader(datafile, delimiter = \",\")\n",
    "    data = list(filecontents)\n",
    "    \n",
    "Boston2016 = pd.DataFrame(data)\n",
    "Boston2016.columns = Boston2016.iloc[0]\n",
    "Boston2016 = Boston2016[1:]\n",
    "\n",
    "Boston2016 = Boston2016.fillna(0)\n",
    "\n",
    "with open(filepath+csvfilenames[2]) as datafile:\n",
    "    filecontents = csv.reader(datafile, delimiter = \",\")\n",
    "    data = list(filecontents)\n",
    "    \n",
    "Boston2017 = pd.DataFrame(data)\n",
    "Boston2017.columns = Boston2017.iloc[0]\n",
    "Boston2017 = Boston2017[1:]\n",
    "\n",
    "Boston2017 = Boston2017.fillna(0)"
   ]
  },
  {
   "cell_type": "code",
   "execution_count": 206,
   "metadata": {},
   "outputs": [],
   "source": [
    "#Create new columns for first and last name\n",
    "\n",
    "Boston2015['First_Name'] = Boston2015['Name'].str.split(',').str[::-1].str.get(0)\n",
    "Boston2015['Last_Name'] = Boston2015['Name'].str.split(',').str[::-1].str.get(1)\n",
    "\n",
    "Boston2016['First_Name'] = Boston2016['Name'].str.split(',').str[::-1].str.get(0)\n",
    "Boston2016['Last_Name'] = Boston2016['Name'].str.split(',').str[::-1].str.get(1)\n",
    "\n",
    "Boston2017['First_Name'] = Boston2017['Name'].str.split(',').str[::-1].str.get(0)\n",
    "Boston2017['Last_Name'] = Boston2017['Name'].str.split(',').str[::-1].str.get(1)\n"
   ]
  },
  {
   "cell_type": "code",
   "execution_count": 207,
   "metadata": {},
   "outputs": [],
   "source": [
    "#Data from 2015 and 2017 loads with an extra column. Run this cell ONLY once otherwise you lose columns\n",
    "\n",
    "Boston2015=Boston2015.drop(Boston2015.columns[0], axis=1)\n",
    "Boston2017=Boston2017.drop(Boston2017.columns[0],axis=1)"
   ]
  },
  {
   "cell_type": "code",
   "execution_count": 240,
   "metadata": {},
   "outputs": [],
   "source": [
    "#Replace spaces by underscores in columns titles and remove numbers\n",
    "\n",
    "Boston2015.rename(columns=lambda x: x.replace(' ', '_'), inplace=True)\n",
    "Boston2016.rename(columns=lambda x: x.replace(' ', '_'), inplace=True)\n",
    "Boston2017.rename(columns=lambda x: x.replace(' ', '_'), inplace=True)\n",
    "\n",
    "Boston2015=Boston2015.rename(columns={'5K': 'FiveK','10K':'TenK','20K':'TwentyK','25K':'TwentyfiveK','30K':'ThirtyK','35K':'ThirtyfiveK','40K':'FortyK'})\n",
    "Boston2016=Boston2016.rename(columns={'5K': 'FiveK','10K':'TenK','20K':'TwentyK','25K':'TwentyfiveK','30K':'ThirtyK','35K':'ThirtyfiveK','40K':'FortyK'})\n",
    "Boston2017=Boston2017.rename(columns={'5K': 'FiveK','10K':'TenK','20K':'TwentyK','25K':'TwentyfiveK','30K':'ThirtyK','35K':'ThirtyfiveK','40K':'FortyK'})\n",
    "\n",
    "Boston2015=Boston2015.rename(columns={'M/F':'MF'})\n",
    "Boston2016=Boston2016.rename(columns={'M/F':'MF'})\n",
    "Boston2017=Boston2017.rename(columns={'M/F':'MF'})"
   ]
  },
  {
   "cell_type": "code",
   "execution_count": 291,
   "metadata": {},
   "outputs": [],
   "source": [
    "#Replace empty values with 0:00:00. There is probably a better way to iterate this\n",
    "Boston2015.loc[(Boston2015.FiveK.str.contains('-'))==True,'FiveK']='0:00:00'\n",
    "Boston2015.loc[(Boston2015.TenK.str.contains('-'))==True,'TenK']='0:00:00'\n",
    "Boston2015.loc[(Boston2015.TwentyK.str.contains('-'))==True,'TwentyK']='0:00:00'\n",
    "Boston2015.loc[(Boston2015.TwentyfiveK.str.contains('-'))==True,'TwentyfiveK']='0:00:00'\n",
    "Boston2015.loc[(Boston2015.ThirtyK.str.contains('-'))==True,'ThirtyK']='0:00:00'\n",
    "Boston2015.loc[(Boston2015.ThirtyfiveK.str.contains('-'))==True,'ThirtyfiveK']='0:00:00'\n",
    "Boston2015.loc[(Boston2015.FortyK.str.contains('-'))==True,'FortyK']='0:00:00'\n",
    "Boston2015.loc[(Boston2015.Half.str.contains('-'))==True,'Half']='0:00:00'\n",
    "Boston2015.loc[(Boston2015.Proj_Time.str.contains('-'))==True,'Proj_Time']='0:00:00'\n",
    "\n",
    "\n",
    "Boston2016.loc[(Boston2016.FiveK.str.contains('-'))==True,'FiveK']='0:00:00'\n",
    "Boston2016.loc[(Boston2016.TenK.str.contains('-'))==True,'TenK']='0:00:00'\n",
    "Boston2016.loc[(Boston2016.TwentyK.str.contains('-'))==True,'TwentyK']='0:00:00'\n",
    "Boston2016.loc[(Boston2016.TwentyfiveK.str.contains('-'))==True,'TwentyfiveK']='0:00:00'\n",
    "Boston2016.loc[(Boston2016.ThirtyK.str.contains('-'))==True,'ThirtyK']='0:00:00'\n",
    "Boston2016.loc[(Boston2016.ThirtyfiveK.str.contains('-'))==True,'ThirtyfiveK']='0:00:00'\n",
    "Boston2016.loc[(Boston2016.FortyK.str.contains('-'))==True,'FortyK']='0:00:00'\n",
    "Boston2016.loc[(Boston2016.Half.str.contains('-'))==True,'Half']='0:00:00'\n",
    "Boston2016.loc[(Boston2016.Proj_Time.str.contains('-'))==True,'Proj_Time']='0:00:00'\n",
    "\n",
    "Boston2017.loc[(Boston2017.FiveK.str.contains('-'))==True,'FiveK']='0:00:00'\n",
    "Boston2017.loc[(Boston2017.TenK.str.contains('-'))==True,'TenK']='0:00:00'\n",
    "Boston2017.loc[(Boston2017.TwentyK.str.contains('-'))==True,'TwentyK']='0:00:00'\n",
    "Boston2017.loc[(Boston2017.TwentyfiveK.str.contains('-'))==True,'TwentyfiveK']='0:00:00'\n",
    "Boston2017.loc[(Boston2017.ThirtyK.str.contains('-'))==True,'ThirtyK']='0:00:00'\n",
    "Boston2017.loc[(Boston2017.ThirtyfiveK.str.contains('-'))==True,'ThirtyfiveK']='0:00:00'\n",
    "Boston2017.loc[(Boston2017.FortyK.str.contains('-'))==True,'FortyK']='0:00:00'\n",
    "Boston2017.loc[(Boston2017.Half.str.contains('-'))==True,'Half']='0:00:00'\n",
    "Boston2017.loc[(Boston2017.Proj_Time.str.contains('-'))==True,'Proj_Time']='0:00:00'"
   ]
  },
  {
   "cell_type": "code",
   "execution_count": 292,
   "metadata": {},
   "outputs": [],
   "source": [
    "#Convert time strings into seconds\n",
    "def get_sec(time_str):\n",
    "    h, m, s = time_str.split(':')\n",
    "    return int(h) * 3600 + int(m) * 60 + int(s)\n",
    "\n",
    "Boston2015['OT_Seconds']=Boston2015.Official_Time.apply(get_sec)\n",
    "Boston2015['FiveK_Seconds']=Boston2015.FiveK.apply(get_sec)\n",
    "Boston2015['TenK_Seconds']=Boston2015.TenK.apply(get_sec)\n",
    "Boston2015['TwentyK_Seconds']=Boston2015.TwentyK.apply(get_sec)\n",
    "Boston2015['TwentyFiveK_Seconds']=Boston2015.TwentyfiveK.apply(get_sec)\n",
    "Boston2015['ThirtyK_Seconds']=Boston2015.ThirtyK.apply(get_sec)\n",
    "Boston2015['ThirtyfiveK_Seconds']=Boston2015.ThirtyfiveK.apply(get_sec)\n",
    "Boston2015['FortyK_Seconds']=Boston2015.FortyK.apply(get_sec)\n",
    "Boston2015['Half_Seconds']=Boston2015.Half.apply(get_sec)\n",
    "Boston2015['PT_Seconds']=Boston2015.Proj_Time.apply(get_sec)\n",
    "Boston2015['Mile_Pace_Seconds']=Boston2015.Pace.apply(get_sec)\n",
    "\n",
    "\n",
    "Boston2016['OT_Seconds']=Boston2016.Official_Time.apply(get_sec)\n",
    "Boston2016['FiveK_Seconds']=Boston2016.FiveK.apply(get_sec)\n",
    "Boston2016['TenK_Seconds']=Boston2016.TenK.apply(get_sec)\n",
    "Boston2016['TwentyK_Seconds']=Boston2016.TwentyK.apply(get_sec)\n",
    "Boston2016['TwentyFiveK_Seconds']=Boston2016.TwentyfiveK.apply(get_sec)\n",
    "Boston2016['ThirtyK_Seconds']=Boston2016.ThirtyK.apply(get_sec)\n",
    "Boston2016['ThirtyfiveK_Seconds']=Boston2016.ThirtyfiveK.apply(get_sec)\n",
    "Boston2016['FortyK_Seconds']=Boston2016.FortyK.apply(get_sec)\n",
    "Boston2016['PT_Seconds']=Boston2016.Proj_Time.apply(get_sec)\n",
    "Boston2016['Mile_Pace_Seconds']=Boston2016.Pace.apply(get_sec)\n",
    "\n",
    "Boston2017['OT_Seconds']=Boston2017.Official_Time.apply(get_sec)\n",
    "Boston2017['FiveK_Seconds']=Boston2017.FiveK.apply(get_sec)\n",
    "Boston2017['TenK_Seconds']=Boston2017.TenK.apply(get_sec)\n",
    "Boston2017['TwentyK_Seconds']=Boston2017.TwentyK.apply(get_sec)\n",
    "Boston2017['TwentyFiveK_Seconds']=Boston2017.TwentyfiveK.apply(get_sec)\n",
    "Boston2017['ThirtyK_Seconds']=Boston2017.ThirtyK.apply(get_sec)\n",
    "Boston2017['ThirtyfiveK_Seconds']=Boston2017.ThirtyfiveK.apply(get_sec)\n",
    "Boston2017['FortyK_Seconds']=Boston2017.FortyK.apply(get_sec)\n",
    "Boston2017['PT_Seconds']=Boston2017.Proj_Time.apply(get_sec)\n",
    "Boston2017['Mile_Pace_Seconds']=Boston2017.Pace.apply(get_sec)"
   ]
  },
  {
   "cell_type": "code",
   "execution_count": 312,
   "metadata": {},
   "outputs": [
    {
     "data": {
      "text/html": [
       "<div>\n",
       "<style>\n",
       "    .dataframe thead tr:only-child th {\n",
       "        text-align: right;\n",
       "    }\n",
       "\n",
       "    .dataframe thead th {\n",
       "        text-align: left;\n",
       "    }\n",
       "\n",
       "    .dataframe tbody tr th {\n",
       "        vertical-align: top;\n",
       "    }\n",
       "</style>\n",
       "<table border=\"1\" class=\"dataframe\">\n",
       "  <thead>\n",
       "    <tr style=\"text-align: right;\">\n",
       "      <th></th>\n",
       "      <th>Bib</th>\n",
       "      <th>Name</th>\n",
       "      <th>Age</th>\n",
       "      <th>MF</th>\n",
       "      <th>City</th>\n",
       "      <th>State</th>\n",
       "      <th>Country</th>\n",
       "      <th>Citizen</th>\n",
       "      <th>FiveK</th>\n",
       "      <th>TenK</th>\n",
       "      <th>...</th>\n",
       "      <th>TenK_Seconds</th>\n",
       "      <th>TwentyK_Seconds</th>\n",
       "      <th>TwentyFiveK_Seconds</th>\n",
       "      <th>ThirtyK_Seconds</th>\n",
       "      <th>ThirtyfiveK_Seconds</th>\n",
       "      <th>FortyK_Seconds</th>\n",
       "      <th>Half_Seconds</th>\n",
       "      <th>PT_Seconds</th>\n",
       "      <th>Mile_Pace_Seconds</th>\n",
       "      <th>Elite</th>\n",
       "    </tr>\n",
       "  </thead>\n",
       "  <tbody>\n",
       "  </tbody>\n",
       "</table>\n",
       "<p>0 rows × 37 columns</p>\n",
       "</div>"
      ],
      "text/plain": [
       "Empty DataFrame\n",
       "Columns: [Bib, Name, Age, MF, City, State, Country, Citizen, FiveK, TenK, 15K, TwentyK, Half, TwentyfiveK, ThirtyK, ThirtyfiveK, FortyK, Pace, Proj_Time, Official_Time, Overall, Gender, Division, First_Name, Last_Name, OT_Seconds, FiveK_Seconds, TenK_Seconds, TwentyK_Seconds, TwentyFiveK_Seconds, ThirtyK_Seconds, ThirtyfiveK_Seconds, FortyK_Seconds, Half_Seconds, PT_Seconds, Mile_Pace_Seconds, Elite]\n",
       "Index: []\n",
       "\n",
       "[0 rows x 37 columns]"
      ]
     },
     "execution_count": 312,
     "metadata": {},
     "output_type": "execute_result"
    }
   ],
   "source": [
    "Boston2015[Boston2015.Last_Name=='Limo']"
   ]
  },
  {
   "cell_type": "code",
   "execution_count": 313,
   "metadata": {},
   "outputs": [
    {
     "data": {
      "text/plain": [
       "1       E\n",
       "2       E\n",
       "3       E\n",
       "4       E\n",
       "5       E\n",
       "6       E\n",
       "7       E\n",
       "8       E\n",
       "9       E\n",
       "10      E\n",
       "11     NE\n",
       "12      E\n",
       "13      E\n",
       "14      E\n",
       "15     NE\n",
       "16     NE\n",
       "17     NE\n",
       "18     NE\n",
       "19     NE\n",
       "20     NE\n",
       "21     NE\n",
       "22     NE\n",
       "23     NE\n",
       "24     NE\n",
       "25      E\n",
       "26     NE\n",
       "27     NE\n",
       "28     NE\n",
       "29     NE\n",
       "30     NE\n",
       "       ..\n",
       "71     NE\n",
       "72     NE\n",
       "73     NE\n",
       "74     NE\n",
       "75      E\n",
       "76     NE\n",
       "77     NE\n",
       "78      E\n",
       "79     NE\n",
       "80     NE\n",
       "81     NE\n",
       "82     NE\n",
       "83     NE\n",
       "84     NE\n",
       "85     NE\n",
       "86     NE\n",
       "87     NE\n",
       "88     NE\n",
       "89     NE\n",
       "90     NE\n",
       "91     NE\n",
       "92     NE\n",
       "93     NE\n",
       "94     NE\n",
       "95     NE\n",
       "96     NE\n",
       "97     NE\n",
       "98     NE\n",
       "99     NE\n",
       "100    NE\n",
       "Name: Elite, Length: 100, dtype: object"
      ]
     },
     "execution_count": 313,
     "metadata": {},
     "output_type": "execute_result"
    }
   ],
   "source": [
    "#Add elite designation\n",
    "Boston2015['Elite']=0\n",
    "\n",
    "#Elite Men 2015\n",
    "Boston2015.loc[(Boston2015.Last_Name=='Desisa'),'Elite']='E'\n",
    "Boston2015.loc[(Boston2015.Last_Name=='Tsegay'),'Elite']='E'\n",
    "Boston2015.loc[(Boston2015.Last_Name=='Tola'),'Elite']='E'\n",
    "Boston2015.loc[(Boston2015.Last_Name=='Chebet'),'Elite']='E'\n",
    "Boston2015.loc[(Boston2015.Last_Name=='Chepkwony'),'Elite']='E'\n",
    "Boston2015.loc[(Boston2015.Last_Name=='Korir'),'Elite']='E'\n",
    "Boston2015.loc[(Boston2015.Last_Name=='Kipyego'),'Elite']='E'\n",
    "Boston2015.loc[(Boston2015.Last_Name=='Ritzenhein'),'Elite']='E'\n",
    "Boston2015.loc[(Boston2015.Last_Name=='April'),'Elite']='E'\n",
    "Boston2015.loc[(Boston2015.Last_Name=='Keflezighi'),'Elite']='E'\n",
    "Boston2015.loc[(Boston2015.Last_Name=='Shafar'),'Elite']='E'\n",
    "Boston2015.loc[(Boston2015.Last_Name=='Eggleston'),'Elite']='E'\n",
    "Boston2015.loc[(Boston2015.Last_Name=='Arciniaga'),'Elite']='E'\n",
    "Boston2015.loc[(Boston2015.Last_Name=='Cabada'),'Elite']='E'\n",
    "\n",
    "#Elite Women 2015\n",
    "Boston2015.loc[(Boston2015.Last_Name=='Dibaba'),'Elite']='E'\n",
    "Boston2015.loc[(Boston2015.Last_Name=='Deba'),'Elite']='E'\n",
    "Boston2015.loc[(Boston2015.Last_Name=='Kebede'),'Elite']='E'\n",
    "Boston2015.loc[(Boston2015.First_Name.str.contains('Shalane')==True),'Elite']='E'\n",
    "Boston2015.loc[(Boston2015.Last_Name=='Duliba'),'Elite']='E'\n",
    "Boston2015.loc[(Boston2015.Last_Name=='Cherop'),'Elite']='E'\n",
    "Boston2015.loc[(Boston2015.Last_Name=='Kilel'),'Elite']='E'\n",
    "Boston2015.loc[(Boston2015.Last_Name=='Linden'),'Elite']='E'\n",
    "Boston2015.loc[(Boston2015.Last_Name=='Rotich'),'Elite']='E'\n",
    "Boston2015.loc[(Boston2015.Last_Name=='Nemec'),'Elite']='E'\n",
    "Boston2015.loc[(Boston2015.Last_Name=='Chepkirui'),'Elite']='E'\n",
    "\n",
    "Boston2015.loc[(Boston2015.Elite==0),'Elite']='NE'\n",
    "\n",
    "Boston2015.Elite.head(n=100)"
   ]
  },
  {
   "cell_type": "code",
   "execution_count": 236,
   "metadata": {},
   "outputs": [
    {
     "data": {
      "image/png": "[encoded data removed]",
      "text/plain": [
       "<matplotlib.figure.Figure at 0x12225fe50>"
      ]
     },
     "metadata": {},
     "output_type": "display_data"
    }
   ],
   "source": [
    "#Distributions for each year\n",
    "x=Boston2015.OT_Seconds\n",
    "sb.kdeplot(x, shade=True,cut=0);\n",
    "\n",
    "y=Boston2016.OT_Seconds\n",
    "sb.kdeplot(y,shade=True,cut=0);\n",
    "\n",
    "z=Boston2017.OT_Seconds\n",
    "sb.kdeplot(z,shade=True,cut=0);\n",
    "plt.show()"
   ]
  },
  {
   "cell_type": "code",
   "execution_count": 231,
   "metadata": {},
   "outputs": [
    {
     "name": "stdout",
     "output_type": "stream",
     "text": [
      "7757\n",
      "29161\n"
     ]
    }
   ],
   "source": [
    "print min(Boston2015.OT_Seconds)\n",
    "print max(Boston2015.OT_Seconds)"
   ]
  },
  {
   "cell_type": "code",
   "execution_count": null,
   "metadata": {},
   "outputs": [],
   "source": []
  },
  {
   "cell_type": "code",
   "execution_count": null,
   "metadata": {
    "collapsed": true
   },
   "outputs": [],
   "source": []
  }
 ],
 "metadata": {
  "kernelspec": {
   "display_name": "Python 2",
   "language": "python",
   "name": "python2"
  },
  "language_info": {
   "codemirror_mode": {
    "name": "ipython",
    "version": 2
   },
   "file_extension": ".py",
   "mimetype": "text/x-python",
   "name": "python",
   "nbconvert_exporter": "python",
   "pygments_lexer": "ipython2",
   "version": "2.7.14"
  }
 },
 "nbformat": 4,
 "nbformat_minor": 2
}
